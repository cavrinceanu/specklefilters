{
 "cells": [
  {
   "cell_type": "markdown",
   "metadata": {},
   "source": [
    "### Lee filter "
   ]
  },
  {
   "cell_type": "markdown",
   "metadata": {},
   "source": [
    "##### Lee filter as defined in Lee, J.S., 1980, Digital Image Enhancement and Noise Filtering by Use of Local Statistics, IEEE Transactions on Pattern Analysis and Machine Intelligence, Vol. PAMI-2, No. 2. The Lee filter makes use of local mean and variance statistics for each pixel for estimating the minimum mean-square error (MMSE) and apply it for obtaining an estimate of the noise. This filter uses an adaptive method, with a sliding kernel used for determining local statistcs.  While in the forementioned paper three cases of noise reduction are treated (additive, multiplicative and combination), the following implementation is suitable only for multiplicative noise cases that introduces an effect to images, similar to the \"salt and pepper\" effect of speckle in Synthetic Apperture Radar (SAR) imagery. (Note that speckle in SAR is not noise, but interference of incoming signal from different scatterers). "
   ]
  },
  {
   "cell_type": "code",
   "execution_count": null,
   "metadata": {},
   "outputs": [],
   "source": [
    "from osgeo import gdal\n",
    "import numpy as np\n",
    "import matplotlib.pyplot as plt\n",
    "import cv2 as cv\n",
    "import math\n",
    "from skimage import exposure\n",
    "import os\n",
    "import glob"
   ]
  },
  {
   "cell_type": "code",
   "execution_count": null,
   "metadata": {},
   "outputs": [],
   "source": [
    "def lee_filter(input_file, output_file):\n",
    "    print('Begin filtering file ' + input_file)\n",
    "    \n",
    "    # inputing the file\n",
    "    sar_image=gdal.Open(input_file)\n",
    "    sar_band=sar_image.GetRasterBand(1)\n",
    "    sar_band.GetMetadata()\n",
    "    img_array=sar_band.ReadAsArray()\n",
    "    [cols, rows]=img_array.shape\n",
    "\n",
    "    # equalizing the histogram\n",
    "    '''''val1,val2 = np.percentile(img_array, (2,90))\n",
    "    new_img= exposure.rescale_intensity(img_array, in_range=(val1,val2))\n",
    "    plt.figure(figsize=(7, 7))                   \n",
    "    fig = plt.imshow(arr_new, cmap = 'gray')  \n",
    "    plt.axis(False)'''''\n",
    "    \n",
    "    eq=exposure.equalize_hist(img_array).astype(np.float32)\n",
    "    \n",
    "    #setup requirements for Lee Filter\n",
    "    \n",
    "    window_size=5   #for window size use an odd number\n",
    "    number_looks = 4.4 #default for Sentinel-1 (2018)\n",
    "    mean_variance=1/number_looks\n",
    "    mean_noise= 1  #default value for multiplicative noise is 1\n",
    "    \n",
    "    mean=cv.blur(img_array, (window_size, window_size))                                               \n",
    "    mean_sq = cv.blur(img_array*img_array, (window_size, window_size))\n",
    "    local_variance= mean_sq-mean*mean\n",
    "    \n",
    "    output_array = np.zeros(img_array.shape, dtype=np.float32)\n",
    "    \n",
    "    # define filter function\n",
    "    \n",
    "    def lee():\n",
    "        for i in range(cols):\n",
    "            for j in range(rows):\n",
    "                center_pixel=img_array[i,j]\n",
    "                weight= (mean_noise*local_variance[i,j])/((mean[i,j]*mean[i,j]*mean_variance)+(mean_noise*mean_noise*local_variance[i,j]))\n",
    "                output_array[i,j]=mean[i,j]+weight*(center_pixel-mean_noise*mean[i,j])\n",
    "        return output_array\n",
    "\n",
    "    #filter image\n",
    "    \n",
    "    filtered_image= lee()\n",
    "    \n",
    "    # writing output file\n",
    "    driver = gdal.GetDriverByName(\"GTiff\")\n",
    "    output = driver.Create(output_file, rows, cols, 1, gdal.GDT_Float32)\n",
    "    proj = output.SetGeoTransform(sar_image.GetGeoTransform())  \n",
    "    output.SetProjection(sar_image.GetProjection())\n",
    "    output.SetGCPs(sar_image.GetGCPs(), \"4326\")\n",
    "    geoband = output.GetRasterBand(1)\n",
    "    geoband.WriteArray(filtered_image)\n",
    "    output.GetRasterBand(1).SetNoDataValue(-9999)\n",
    "    output.FlushCache()\n",
    "    output = None\n",
    "    band=None\n",
    "    print('Created file ' + output_file)\n",
    "    \n",
    "    print('End filtering file ' + input_file)"
   ]
  },
  {
   "cell_type": "code",
   "execution_count": null,
   "metadata": {},
   "outputs": [],
   "source": [
    "for input_file in glob.glob('/home/cristina/Seeps/Workflow/Filters/ROI/*/NRCS/*tif'):\n",
    "    output_file = input_file.split(os.sep)\n",
    "    output_file[-1] = output_file[-1][:-4] + '_Lee_5.tif'\n",
    "    output_file = output_file[:-2] + ['Lee_Python'] + output_file[-2:]\n",
    "    output_file = os.sep.join(output_file)\n",
    "    lee_filter(input_file, output_file)"
   ]
  },
  {
   "cell_type": "code",
   "execution_count": null,
   "metadata": {},
   "outputs": [],
   "source": []
  }
 ],
 "metadata": {
  "kernelspec": {
   "display_name": "Python 3",
   "language": "python",
   "name": "python3"
  },
  "language_info": {
   "codemirror_mode": {
    "name": "ipython",
    "version": 3
   },
   "file_extension": ".py",
   "mimetype": "text/x-python",
   "name": "python",
   "nbconvert_exporter": "python",
   "pygments_lexer": "ipython3",
   "version": "3.7.8"
  }
 },
 "nbformat": 4,
 "nbformat_minor": 4
}
