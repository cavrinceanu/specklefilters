{
 "cells": [
  {
   "cell_type": "markdown",
   "metadata": {},
   "source": [
    "## Bilateral filter "
   ]
  },
  {
   "cell_type": "markdown",
   "metadata": {},
   "source": [
    "###### Author: Cristina Vrinceanu (University of Nottingham), Americo Ambrozio (DEIMOS/ESA)"
   ]
  },
  {
   "cell_type": "markdown",
   "metadata": {},
   "source": [
    "Bilateral filter consists in a non-iterative method for removing noise in images, while preserving edges. The filter acts in both the range and domain of the underlining function, hence, the filter resolves both the photometric and geometric aspects. More information can be found here: http://homepages.inf.ed.ac.uk/rbf/CVonline/LOCAL_COPIES/MANDUCHI1/Bilateral_Filtering.html#Index. Since the OpenCV library already comes with an implementation of the Bilateral filter, there is no need to redefine it. For information on parameter specifications, please check the documentation: https://docs.opencv.org/2.4/modules/imgproc/doc/filtering.html?highlight=bilateralfilter#bilateralfilter"
   ]
  },
  {
   "cell_type": "code",
   "execution_count": null,
   "metadata": {},
   "outputs": [],
   "source": [
    "from osgeo import gdal\n",
    "import numpy as np\n",
    "import matplotlib.pyplot as plt\n",
    "from skimage import exposure\n",
    "import math\n",
    "import cv2 as cv\n",
    "import glob\n",
    "import os\n",
    "import subprocess"
   ]
  },
  {
   "cell_type": "code",
   "execution_count": null,
   "metadata": {},
   "outputs": [],
   "source": [
    "##subprocess.run([\"exiftool\", \"-ifd0:modeltiepoint=\", output_file])#, stdout=subprocess.DEVNULL)\n",
    "##subprocess.run([\"exiftool\", \"-TagsFromFile\", input_file, \"-ifd0:modeltiepoint<modeltiepoint\", output_file])#, stdout=subprocess.DEVNULL)"
   ]
  },
  {
   "cell_type": "code",
   "execution_count": null,
   "metadata": {},
   "outputs": [],
   "source": [
    "def bilateral_filter(input_file, output_file):\n",
    "    print('Begin filtering file ' + input_file)\n",
    "    \n",
    "    # inputing the file\n",
    "    sar_image=gdal.Open(input_file)\n",
    "    sar_band=sar_image.GetRasterBand(1)\n",
    "    sar_band.GetMetadata()\n",
    "    img_array=sar_band.ReadAsArray()\n",
    "    img_array = img_array.astype(np.float32)\n",
    "    [cols, rows]=img_array.shape\n",
    "      \n",
    "    # filtering\n",
    "    filtered_image = cv.bilateralFilter(img_array,5,80,80)\n",
    "    \n",
    "    # writing output file\n",
    "    driver = gdal.GetDriverByName(\"GTiff\")\n",
    "    output = driver.Create(output_file, rows, cols, 1, gdal.GDT_Float32)\n",
    "    proj = output.SetGeoTransform(sar_image.GetGeoTransform())  \n",
    "    output.SetProjection(sar_image.GetProjection())\n",
    "    output.SetGCPs(sar_image.GetGCPs(), \"4326\")\n",
    "    geoband = output.GetRasterBand(1)\n",
    "    geoband.WriteArray(filtered_image)\n",
    "    output.GetRasterBand(1).SetNoDataValue(-9999)\n",
    "    output.FlushCache()\n",
    "    output = None\n",
    "    band=None\n",
    "    print('Created file ' + output_file)\n",
    "    \n",
    "    print('End filtering file ' + input_file)"
   ]
  },
  {
   "cell_type": "code",
   "execution_count": null,
   "metadata": {},
   "outputs": [],
   "source": [
    "for input_file in glob.glob('/home/cristina/Seeps/Workflow/Filters/ROI/*/NRCS/*tif'):\n",
    "    print(input_file)\n",
    "    output_file = input_file.split(os.sep)\n",
    "    print(output_file)\n",
    "    output_file[-1] = output_file[-1][:-4] + '_Bil.tif'\n",
    "    print(output_file)\n",
    "    output_file = output_file[:-2] + ['Filters'] + ['Bilateral'] + output_file[-2:]\n",
    "    print(output_file)\n",
    "    output_file = os.sep.join(output_file)\n",
    "    print(output_file)\n",
    "    bilateral_filter(input_file, output_file)"
   ]
  }
 ],
 "metadata": {
  "kernelspec": {
   "display_name": "Python 3",
   "language": "python",
   "name": "python3"
  },
  "language_info": {
   "codemirror_mode": {
    "name": "ipython",
    "version": 3
   },
   "file_extension": ".py",
   "mimetype": "text/x-python",
   "name": "python",
   "nbconvert_exporter": "python",
   "pygments_lexer": "ipython3",
   "version": "3.7.8"
  }
 },
 "nbformat": 4,
 "nbformat_minor": 4
}
