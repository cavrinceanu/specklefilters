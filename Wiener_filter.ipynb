{
 "cells": [
  {
   "cell_type": "code",
   "execution_count": null,
   "metadata": {},
   "outputs": [],
   "source": [
    "from osgeo import gdal\n",
    "import numpy as np\n",
    "import matplotlib.pyplot as plt\n",
    "from scipy.signal import wiener\n",
    "import glob\n",
    "import os\n",
    "import subprocess"
   ]
  },
  {
   "cell_type": "code",
   "execution_count": null,
   "metadata": {},
   "outputs": [],
   "source": [
    "def wiener_filter(input_file, output_file):\n",
    "    print('Begin filtering file ' + input_file)\n",
    "    \n",
    "    # inputing the file\n",
    "    sar_image=gdal.Open(input_file)\n",
    "    sar_band=sar_image.GetRasterBand(1)\n",
    "    sar_band.GetMetadata()\n",
    "    img_array=sar_band.ReadAsArray()\n",
    "    [cols, rows]=img_array.shape\n",
    "\n",
    "    filtered_image = wiener(img_array, 5)  #second parameter is window size, third parameter(unspecified) is the noise-power, if not specified it takes the local variance into account\n",
    "    \n",
    "    # writing output file\n",
    "    driver = gdal.GetDriverByName(\"GTiff\")\n",
    "    output = driver.Create(output_file, rows, cols, 1, gdal.GDT_Float32)\n",
    "    proj = output.SetGeoTransform(sar_image.GetGeoTransform())  \n",
    "    output.SetProjection(sar_image.GetProjection())\n",
    "    output.SetGCPs(sar_image.GetGCPs(), \"4326\")\n",
    "    geoband = output.GetRasterBand(1)\n",
    "    geoband.WriteArray(filtered_image)\n",
    "    output.GetRasterBand(1).SetNoDataValue(-9999)\n",
    "    output.FlushCache()\n",
    "    output = None\n",
    "    band=None\n",
    "    print('Created file ' + output_file)\n",
    "    \n",
    "    print('End filtering file ' + input_file)    "
   ]
  },
  {
   "cell_type": "code",
   "execution_count": null,
   "metadata": {},
   "outputs": [],
   "source": [
    "for input_file in glob.glob('/home/cristina/Seeps/Workflow/Filters/ROI/*/NRCS/*tif'):\n",
    "    output_file = input_file.split(os.sep)\n",
    "    output_file[-1] = output_file[-1][:-4] + '_Wiener_5.tif'\n",
    "    output_file = output_file[:-2] + ['Wiener'] + output_file[-2:]\n",
    "    output_file = os.sep.join(output_file)\n",
    "    wiener_filter(input_file, output_file)"
   ]
  }
 ],
 "metadata": {
  "kernelspec": {
   "display_name": "Python 3",
   "language": "python",
   "name": "python3"
  },
  "language_info": {
   "codemirror_mode": {
    "name": "ipython",
    "version": 3
   },
   "file_extension": ".py",
   "mimetype": "text/x-python",
   "name": "python",
   "nbconvert_exporter": "python",
   "pygments_lexer": "ipython3",
   "version": "3.7.8"
  }
 },
 "nbformat": 4,
 "nbformat_minor": 4
}
