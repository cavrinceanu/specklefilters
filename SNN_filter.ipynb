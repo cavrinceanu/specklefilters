{
 "cells": [
  {
   "cell_type": "code",
   "execution_count": null,
   "metadata": {},
   "outputs": [],
   "source": [
    "from osgeo import gdal\n",
    "import numpy as np\n",
    "import matplotlib.pyplot as plt\n",
    "from skimage import exposure\n",
    "import math\n",
    "import scipy.ndimage\n",
    "import PIL.Image\n",
    "import os\n",
    "import glob"
   ]
  },
  {
   "cell_type": "code",
   "execution_count": null,
   "metadata": {},
   "outputs": [],
   "source": [
    "def snn_filter(input_file, output_file):\n",
    "    print('Begin filtering file ' + input_file)\n",
    "    \n",
    "    # inputing the file\n",
    "    sar_image=gdal.Open(input_file)\n",
    "    sar_band=sar_image.GetRasterBand(1)\n",
    "    sar_band.GetMetadata()\n",
    "    img_array=sar_band.ReadAsArray()\n",
    "    [cols, rows]=img_array.shape\n",
    "\n",
    "    # equalizing the histogram\n",
    "    '''''val1,val2 = np.percentile(img_array, (2,90))\n",
    "    new_img= exposure.rescale_intensity(img_array, in_range=(val1,val2))\n",
    "    plt.figure(figsize=(7, 7))                   \n",
    "    fig = plt.imshow(arr_new, cmap = 'gray')  \n",
    "    plt.axis(False)'''''\n",
    "    \n",
    "    eq=exposure.equalize_hist(img_array).astype(np.float32)\n",
    "    \n",
    "    # define filter function\n",
    "    \n",
    "    def snn(image, window_size=5):\n",
    "\n",
    "        def nearest(a, num):\n",
    "            return a.flat[np.abs(a - num).argmin()]  \n",
    "    \n",
    "        def func(kernel, pairs):\n",
    "            centre_pixel = kernel[kernel.size // 2]\n",
    "            select = [nearest(kernel[p], centre_pixel) for p in pairs]\n",
    "            return np.mean(select)\n",
    "\n",
    "        pairs = [[i, window_size**2-1 - i] for i in range(window_size**2 // 2)]\n",
    "        return scipy.ndimage.generic_filter(image, func, size= window_size,\n",
    "                                        extra_keywords={'pairs': pairs}\n",
    "                                       )\n",
    "    #filter image\n",
    "    \n",
    "    filtered_image= snn(img_array)\n",
    "    \n",
    "    # writing output file\n",
    "    driver = gdal.GetDriverByName(\"GTiff\")\n",
    "    output = driver.Create(output_file, rows, cols, 1, gdal.GDT_Float32)\n",
    "    proj = output.SetGeoTransform(sar_image.GetGeoTransform())  \n",
    "    output.SetProjection(sar_image.GetProjection())\n",
    "    output.SetGCPs(sar_image.GetGCPs(), \"4326\")\n",
    "    geoband = output.GetRasterBand(1)\n",
    "    geoband.WriteArray(filtered_image)\n",
    "    output.GetRasterBand(1).SetNoDataValue(-9999)\n",
    "    output.FlushCache()\n",
    "    output = None\n",
    "    band=None\n",
    "    print('Created file ' + output_file)\n",
    "    \n",
    "    print('End filtering file ' + input_file)"
   ]
  },
  {
   "cell_type": "code",
   "execution_count": null,
   "metadata": {},
   "outputs": [],
   "source": [
    "for input_file in glob.glob('/home/cristina/Seeps/Workflow/Filters/ROI/*/NRCS/*tif'):\n",
    "    output_file = input_file.split(os.sep)\n",
    "    output_file[-1] = output_file[-1][:-4] + '_SNN.tif'\n",
    "    output_file = output_file[:-2] + ['SNN'] + output_file[-2:]\n",
    "    output_file = os.sep.join(output_file)\n",
    "    snn_filter(input_file, output_file)"
   ]
  }
 ],
 "metadata": {
  "kernelspec": {
   "display_name": "Python 3",
   "language": "python",
   "name": "python3"
  },
  "language_info": {
   "codemirror_mode": {
    "name": "ipython",
    "version": 3
   },
   "file_extension": ".py",
   "mimetype": "text/x-python",
   "name": "python",
   "nbconvert_exporter": "python",
   "pygments_lexer": "ipython3",
   "version": "3.7.8"
  }
 },
 "nbformat": 4,
 "nbformat_minor": 4
}
